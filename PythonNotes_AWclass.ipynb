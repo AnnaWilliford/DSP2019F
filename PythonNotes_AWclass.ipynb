{
 "cells": [
  {
   "cell_type": "markdown",
   "metadata": {},
   "source": [
    "Modified from: https://www.cdslab.org/python/\n",
    "               https://www.dataquest.io/blog/jupyter-notebook-tips-tricks-shortcuts/\n",
    "               https://github.com/uta-carpentries/SWC_spring2019_lessons/blob/master/Lesson2_Python_Basics.ipynb"
   ]
  },
  {
   "cell_type": "markdown",
   "metadata": {},
   "source": [
    "## Lesson outline\n",
    "\n",
    "1. breif review of data types and data structures\n",
    "2. control structures: conditional and loops\n",
    "3. list comprehensions\n",
    "3. functions\n",
    "4. practice of 2,3, and 4 with a simple data set"
   ]
  },
  {
   "cell_type": "markdown",
   "metadata": {},
   "source": [
    "## Working with environment"
   ]
  },
  {
   "cell_type": "code",
   "execution_count": 231,
   "metadata": {},
   "outputs": [
    {
     "name": "stdout",
     "output_type": "stream",
     "text": [
      "a\t a_dict\t b\t b_dict\t c\t d\t el\t fence\t find3letters\t \n",
      "i\t k\t key\t letters\t letters_dict\t letters_list\t math\t multiply\t myData\t \n",
      "myData_df\t myData_dic\t myData_dict\t myList\t myList2\t myProduct\t myStr\t my_file\t new_dict\t \n",
      "no\t pd\t res\t score\t seq\t seq2\t store_dict\t v\t value\t \n",
      "x\t y\t yes\t z\t \n"
     ]
    }
   ],
   "source": [
    "#List all variable defined in your environment\n",
    "%who"
   ]
  },
  {
   "cell_type": "code",
   "execution_count": 232,
   "metadata": {},
   "outputs": [
    {
     "name": "stdout",
     "output_type": "stream",
     "text": [
      "Once deleted, variables cannot be recovered. Proceed (y/[n])? y\n"
     ]
    },
    {
     "name": "stderr",
     "output_type": "stream",
     "text": [
      "ERROR:root:Invalid alias: The name clear can't be aliased because it is another magic command.\n",
      "ERROR:root:Invalid alias: The name more can't be aliased because it is another magic command.\n",
      "ERROR:root:Invalid alias: The name less can't be aliased because it is another magic command.\n",
      "ERROR:root:Invalid alias: The name man can't be aliased because it is another magic command.\n"
     ]
    }
   ],
   "source": [
    "#delete all\n",
    "%reset"
   ]
  },
  {
   "cell_type": "code",
   "execution_count": 233,
   "metadata": {},
   "outputs": [
    {
     "name": "stdout",
     "output_type": "stream",
     "text": [
      "Interactive namespace is empty.\n"
     ]
    }
   ],
   "source": [
    "#now\n",
    "%who"
   ]
  },
  {
   "cell_type": "markdown",
   "metadata": {},
   "source": [
    "## Basic data types:"
   ]
  },
  {
   "cell_type": "code",
   "execution_count": 250,
   "metadata": {},
   "outputs": [
    {
     "name": "stdout",
     "output_type": "stream",
     "text": [
      "a is <class 'float'> \n",
      "b is <class 'int'>\n",
      "a is <class 'int'> now\n"
     ]
    }
   ],
   "source": [
    "#1. numeric(float, int)\n",
    "a=23.5\n",
    "print(\"a is {} \".format(type(a)))\n",
    "\n",
    "b=12\n",
    "print(\"b is {}\".format(type(12)))\n",
    "\n",
    "#can convert between types\n",
    "a=int(a)\n",
    "print(\"a is {} now\".format(type(a)))"
   ]
  },
  {
   "cell_type": "code",
   "execution_count": 251,
   "metadata": {},
   "outputs": [
    {
     "name": "stdout",
     "output_type": "stream",
     "text": [
      "Hi\n",
      "<class 'int'>\n",
      "c is <class 'str'> now\n"
     ]
    },
    {
     "ename": "TypeError",
     "evalue": "'str' object does not support item assignment",
     "output_type": "error",
     "traceback": [
      "\u001b[0;31m---------------------------------------------------------------------------\u001b[0m",
      "\u001b[0;31mTypeError\u001b[0m                                 Traceback (most recent call last)",
      "\u001b[0;32m<ipython-input-251-fcf1ea5d331f>\u001b[0m in \u001b[0;36m<module>\u001b[0;34m\u001b[0m\n\u001b[1;32m     10\u001b[0m \u001b[0;34m\u001b[0m\u001b[0m\n\u001b[1;32m     11\u001b[0m \u001b[0;31m#immutable\u001b[0m\u001b[0;34m\u001b[0m\u001b[0;34m\u001b[0m\u001b[0;34m\u001b[0m\u001b[0m\n\u001b[0;32m---> 12\u001b[0;31m \u001b[0mmyStr\u001b[0m\u001b[0;34m[\u001b[0m\u001b[0;36m1\u001b[0m\u001b[0;34m]\u001b[0m\u001b[0;34m=\u001b[0m\u001b[0;34m'o'\u001b[0m\u001b[0;34m\u001b[0m\u001b[0;34m\u001b[0m\u001b[0m\n\u001b[0m",
      "\u001b[0;31mTypeError\u001b[0m: 'str' object does not support item assignment"
     ]
    }
   ],
   "source": [
    "#2. strings\n",
    "myStr=\"Hi\"\n",
    "print(myStr)\n",
    "\n",
    "#can convert\n",
    "c=12\n",
    "print(type(c))\n",
    "c=str(c)\n",
    "print(\"c is {} now\".format(type(c)))\n",
    "\n",
    "#immutable\n",
    "myStr[1]='o'"
   ]
  },
  {
   "cell_type": "code",
   "execution_count": 252,
   "metadata": {},
   "outputs": [
    {
     "name": "stdout",
     "output_type": "stream",
     "text": [
      "<class 'bool'>\n",
      "<class 'bool'>\n"
     ]
    }
   ],
   "source": [
    "#3. boolean\n",
    "yes=True\n",
    "no=False\n",
    "\n",
    "print(type(yes))\n",
    "print(type(no))"
   ]
  },
  {
   "cell_type": "code",
   "execution_count": 253,
   "metadata": {},
   "outputs": [
    {
     "name": "stdout",
     "output_type": "stream",
     "text": [
      "True\n",
      "True\n",
      "True\n",
      "False\n",
      "True\n",
      "False\n",
      "True\n",
      "False\n"
     ]
    }
   ],
   "source": [
    "#can convert \n",
    "print(bool(2))\n",
    "print(bool(-2))\n",
    "print(bool(\"hi\"))\n",
    "print(bool(0))\n",
    "print(bool(\"None\"))\n",
    "print(bool(None))\n",
    "print(bool(True))\n",
    "print(bool({}))"
   ]
  },
  {
   "cell_type": "markdown",
   "metadata": {},
   "source": [
    "**Challenge** What is the value of `res`?  "
   ]
  },
  {
   "cell_type": "code",
   "execution_count": 255,
   "metadata": {},
   "outputs": [
    {
     "name": "stdout",
     "output_type": "stream",
     "text": [
      "TrueTrue\n"
     ]
    }
   ],
   "source": [
    "score=21  \n",
    "res = 2*str(bool(type(str(type(3==float(score))))))\n",
    "print(res)"
   ]
  },
  {
   "cell_type": "markdown",
   "metadata": {},
   "source": [
    "## Data structures (composite data types)"
   ]
  },
  {
   "cell_type": "markdown",
   "metadata": {},
   "source": [
    "**lists:** ordered collection of elements that can be of different data types. List elements can be changed = mutable"
   ]
  },
  {
   "cell_type": "code",
   "execution_count": 256,
   "metadata": {},
   "outputs": [
    {
     "name": "stdout",
     "output_type": "stream",
     "text": [
      "[1, 4, 'hi', 23]\n"
     ]
    }
   ],
   "source": [
    "#how to create: [] \n",
    "myList=[1,4,\"hi\",23]\n",
    "print(myList)"
   ]
  },
  {
   "cell_type": "code",
   "execution_count": 257,
   "metadata": {},
   "outputs": [
    {
     "data": {
      "text/plain": [
       "'hi'"
      ]
     },
     "execution_count": 257,
     "metadata": {},
     "output_type": "execute_result"
    }
   ],
   "source": [
    "#how to access list elements [index]\n",
    "myList[2]"
   ]
  },
  {
   "cell_type": "code",
   "execution_count": 258,
   "metadata": {},
   "outputs": [
    {
     "name": "stdout",
     "output_type": "stream",
     "text": [
      "[1, 4, 45, 23]\n"
     ]
    }
   ],
   "source": [
    "#can change list elements =mutable\n",
    "myList[2]=45\n",
    "print(myList)"
   ]
  },
  {
   "cell_type": "code",
   "execution_count": 259,
   "metadata": {},
   "outputs": [
    {
     "name": "stdout",
     "output_type": "stream",
     "text": [
      "[1, 4, 45, 23, 'dog']\n"
     ]
    }
   ],
   "source": [
    "#list operations\n",
    "#myList.<tab> to see operations that can be performed on lists\n",
    "\n",
    "myList.append(\"dog\")\n",
    "print(myList)"
   ]
  },
  {
   "cell_type": "code",
   "execution_count": 260,
   "metadata": {},
   "outputs": [
    {
     "name": "stdout",
     "output_type": "stream",
     "text": [
      "[3, 6, 9, 12]\n",
      ".pop(3) returns 12 and removes this element from the list [3, 6, 9]\n"
     ]
    }
   ],
   "source": [
    "myList2=[3,6,9,12]\n",
    "print(myList2)\n",
    "el=myList2.pop(3)\n",
    "print(\".pop(3) returns {} and removes this element from the list {}\".format(el, myList2))"
   ]
  },
  {
   "cell_type": "code",
   "execution_count": 261,
   "metadata": {},
   "outputs": [
    {
     "data": {
      "text/plain": [
       "[3, 6, 9, 12, 3, 6, 9, 12]"
      ]
     },
     "execution_count": 261,
     "metadata": {},
     "output_type": "execute_result"
    }
   ],
   "source": [
    "myList3=[3,6,9,12]\n",
    "myList3*2"
   ]
  },
  {
   "cell_type": "markdown",
   "metadata": {},
   "source": [
    "**tuples**: like lists, but immutable"
   ]
  },
  {
   "cell_type": "markdown",
   "metadata": {},
   "source": [
    "**dictionaries:** key-value pairs (associative arrays), not ordered, mutable "
   ]
  },
  {
   "cell_type": "code",
   "execution_count": 262,
   "metadata": {},
   "outputs": [
    {
     "name": "stdout",
     "output_type": "stream",
     "text": [
      "{'rooms': 3, 'trees': 'many', 'garage': 0}\n"
     ]
    }
   ],
   "source": [
    "#how to create:\n",
    "#1. record key-value pairs; key must be unique!\n",
    "myDict={'rooms':3, 'trees':'many', 'garage':0}\n",
    "print(myDict)"
   ]
  },
  {
   "cell_type": "code",
   "execution_count": 263,
   "metadata": {},
   "outputs": [
    {
     "name": "stdout",
     "output_type": "stream",
     "text": [
      "{'rooms': 3, 'trees': 'many', 'garage': 0}\n"
     ]
    }
   ],
   "source": [
    "#2. Create from 2 lists, one containing keys, another -values\n",
    "keys_list=['rooms','trees','garage']\n",
    "values_list=[3,\"many\",0]\n",
    "house_dict=dict(zip(keys_list, values_list))\n",
    "print(house_dict)"
   ]
  },
  {
   "cell_type": "code",
   "execution_count": 264,
   "metadata": {},
   "outputs": [
    {
     "data": {
      "text/plain": [
       "[('rooms', 3), ('trees', 'many'), ('garage', 0)]"
      ]
     },
     "execution_count": 264,
     "metadata": {},
     "output_type": "execute_result"
    }
   ],
   "source": [
    "list(zip(keys_list, values_list))"
   ]
  },
  {
   "cell_type": "code",
   "execution_count": 265,
   "metadata": {},
   "outputs": [
    {
     "name": "stdout",
     "output_type": "stream",
     "text": [
      "{'sugar': 2, 'bread': 1, 'beer': 7, 'chips': 2}\n"
     ]
    }
   ],
   "source": [
    "#3 From above, can use dict() on list of tuples to make dictionary\n",
    "store_dict=dict([('sugar',2), ('bread',1),('beer',7),('chips',2)])\n",
    "print(store_dict)"
   ]
  },
  {
   "cell_type": "code",
   "execution_count": 266,
   "metadata": {},
   "outputs": [
    {
     "data": {
      "text/plain": [
       "2"
      ]
     },
     "execution_count": 266,
     "metadata": {},
     "output_type": "execute_result"
    }
   ],
   "source": [
    "#access elements\n",
    "store_dict['sugar']"
   ]
  },
  {
   "cell_type": "markdown",
   "metadata": {},
   "source": [
    "**sets**: unordered collection of items with unique elements"
   ]
  },
  {
   "cell_type": "code",
   "execution_count": 267,
   "metadata": {},
   "outputs": [
    {
     "data": {
      "text/plain": [
       "True"
      ]
     },
     "execution_count": 267,
     "metadata": {},
     "output_type": "execute_result"
    }
   ],
   "source": [
    "#How to create: {}\n",
    "a={1,3,\"hello\"}\n",
    "b={1,3,\"hello\",3}\n",
    "a==b"
   ]
  },
  {
   "cell_type": "code",
   "execution_count": 268,
   "metadata": {},
   "outputs": [
    {
     "ename": "TypeError",
     "evalue": "'set' object does not support indexing",
     "output_type": "error",
     "traceback": [
      "\u001b[0;31m---------------------------------------------------------------------------\u001b[0m",
      "\u001b[0;31mTypeError\u001b[0m                                 Traceback (most recent call last)",
      "\u001b[0;32m<ipython-input-268-8bc71255a22e>\u001b[0m in \u001b[0;36m<module>\u001b[0;34m\u001b[0m\n\u001b[0;32m----> 1\u001b[0;31m \u001b[0ma\u001b[0m\u001b[0;34m[\u001b[0m\u001b[0;36m1\u001b[0m\u001b[0;34m]\u001b[0m\u001b[0;34m\u001b[0m\u001b[0;34m\u001b[0m\u001b[0m\n\u001b[0m",
      "\u001b[0;31mTypeError\u001b[0m: 'set' object does not support indexing"
     ]
    }
   ],
   "source": [
    "a[1]"
   ]
  },
  {
   "cell_type": "code",
   "execution_count": 269,
   "metadata": {},
   "outputs": [
    {
     "name": "stdout",
     "output_type": "stream",
     "text": [
      "[2, 3, 6, 7, 8]\n"
     ]
    }
   ],
   "source": [
    "#can use sets to remove duplicate values from list:\n",
    "myList=[2,3,6,7,8,7,3]\n",
    "myList_noDup=set(myList)\n",
    "print(list(myList_noDup))"
   ]
  },
  {
   "cell_type": "code",
   "execution_count": 270,
   "metadata": {},
   "outputs": [
    {
     "data": {
      "text/plain": [
       "{23}"
      ]
     },
     "execution_count": 270,
     "metadata": {},
     "output_type": "execute_result"
    }
   ],
   "source": [
    "b.add(23)\n",
    "b.difference(a)"
   ]
  },
  {
   "cell_type": "markdown",
   "metadata": {},
   "source": [
    "**Challenge**   \n",
    "Create a dictionary called `applicant` with three items:  \n",
    "key1: name; value1: list with 2 elements - name and age  \n",
    "key2: address; value2: dictionary with 2 key-value pairs - state and city  \n",
    "key3: occupation; value3: tuple with 2 elements - title and year  \n",
    "\n",
    "After creating the dictionary, access the age of the applicant, the city and occupation title"
   ]
  },
  {
   "cell_type": "code",
   "execution_count": 271,
   "metadata": {},
   "outputs": [
    {
     "name": "stdout",
     "output_type": "stream",
     "text": [
      "20\n",
      "Arlington\n",
      "student\n"
     ]
    }
   ],
   "source": [
    "#Solution\n",
    "applicant={'name':['Lydia',20], 'address': {'state':'TX', 'city':'Arlington'}, 'occupation':('student',2019)}\n",
    "#print(applicant)\n",
    "\n",
    "print(applicant['name'][1])\n",
    "print(applicant['address']['city'])\n",
    "print(applicant['occupation'][0])"
   ]
  },
  {
   "cell_type": "markdown",
   "metadata": {},
   "source": [
    "## Control structures: conditional and loops"
   ]
  },
  {
   "cell_type": "markdown",
   "metadata": {},
   "source": [
    "**Conditional statements**"
   ]
  },
  {
   "cell_type": "code",
   "execution_count": 272,
   "metadata": {},
   "outputs": [
    {
     "name": "stdout",
     "output_type": "stream",
     "text": [
      "NO\n"
     ]
    }
   ],
   "source": [
    "#Conditional statements: if, elif, else\n",
    "x=5\n",
    "if x>5:  #x>5 is a condition; print statement is executed only if condition evaluates to TRUE\n",
    "    print(\"Number is larger than 5\")\n",
    "else:\n",
    "    print(\"NO\")"
   ]
  },
  {
   "cell_type": "code",
   "execution_count": 277,
   "metadata": {},
   "outputs": [
    {
     "name": "stdout",
     "output_type": "stream",
     "text": [
      "enter a number11\n",
      "Number is larger than 5\n"
     ]
    }
   ],
   "source": [
    "#Conditional statements: if, elif, else\n",
    "#Will elif block get executed?\n",
    "\n",
    "x=int(input(\"enter an integer\"))   #try 2,5,7,11\n",
    "\n",
    "if x>5:\n",
    "    print(\"Number is larger than 5\")\n",
    "elif x>10:\n",
    "    print(\"Number is larger than 10\")\n",
    "else:\n",
    "    print(\"NO\")"
   ]
  },
  {
   "cell_type": "code",
   "execution_count": 278,
   "metadata": {},
   "outputs": [
    {
     "name": "stdout",
     "output_type": "stream",
     "text": [
      "enter an integer11\n",
      "Number is larger than 10\n"
     ]
    }
   ],
   "source": [
    "#Conditional statements: if, elif, else\n",
    "x=int(input(\"enter an integer\"))   #try 2,5,7,11\n",
    "\n",
    "if x>10:\n",
    "    print(\"Number is larger than 10\")\n",
    "elif x>5:\n",
    "    print(\"Number is larger than 5\")\n",
    "else:\n",
    "    print(\"NO\")"
   ]
  },
  {
   "cell_type": "code",
   "execution_count": 279,
   "metadata": {},
   "outputs": [
    {
     "name": "stdout",
     "output_type": "stream",
     "text": [
      "condition Hi evaluates to True\n"
     ]
    }
   ],
   "source": [
    "#check that if block execution occurs only when condition is True\n",
    "condition='Hi' #try  True, \"Hi\", 0, 4, (3==4), 34<35 as a value for condition\n",
    "if condition:\n",
    "    print(\"condition {} evaluates to True\".format(condition))\n",
    "else:\n",
    "    print(\"condition {} evaluates to False\".format(condition))"
   ]
  },
  {
   "cell_type": "markdown",
   "metadata": {},
   "source": [
    "**Loops**"
   ]
  },
  {
   "cell_type": "code",
   "execution_count": 283,
   "metadata": {},
   "outputs": [
    {
     "name": "stdout",
     "output_type": "stream",
     "text": [
      "1\n",
      "2\n",
      "3\n",
      "4\n"
     ]
    }
   ],
   "source": [
    "#for loop\n",
    "for i in range(1,5):\n",
    "    print(i)\n",
    "   "
   ]
  },
  {
   "cell_type": "code",
   "execution_count": 284,
   "metadata": {},
   "outputs": [
    {
     "name": "stdout",
     "output_type": "stream",
     "text": [
      "1\n",
      "12\n",
      "3\n",
      "6\n"
     ]
    }
   ],
   "source": [
    "#for loop\n",
    "myList=[1,12,3,6]\n",
    "for e in myList:\n",
    "    print(e)\n",
    "    #print(list.index(e))"
   ]
  },
  {
   "cell_type": "markdown",
   "metadata": {},
   "source": [
    "**Challenge 1:**\n",
    "Write a `for loop` to multiply each element of `myList=[1,4,3,7,9]` by `2`"
   ]
  },
  {
   "cell_type": "code",
   "execution_count": 285,
   "metadata": {},
   "outputs": [
    {
     "name": "stdout",
     "output_type": "stream",
     "text": [
      "2\n",
      "8\n",
      "6\n",
      "14\n",
      "18\n"
     ]
    }
   ],
   "source": [
    "#Solution:\n",
    "myList=[1,4,3,7,9]\n",
    "for e in myList:\n",
    "    new_e=2*e\n",
    "    print(new_e)"
   ]
  },
  {
   "cell_type": "markdown",
   "metadata": {},
   "source": [
    "**Challenge 1a:**\n",
    "Modify solution to Challenge 1 so the output is a list."
   ]
  },
  {
   "cell_type": "code",
   "execution_count": 286,
   "metadata": {},
   "outputs": [
    {
     "name": "stdout",
     "output_type": "stream",
     "text": [
      "[2, 8, 6, 14, 18]\n"
     ]
    }
   ],
   "source": [
    "#Solution to Challenge 1a:\n",
    "myList=[1,4,3,7,9]\n",
    "newList=[]\n",
    "for e in myList:\n",
    "    new_e=2*e\n",
    "    newList.append(new_e)\n",
    "print(newList)"
   ]
  },
  {
   "cell_type": "markdown",
   "metadata": {},
   "source": [
    "What we are doing here is transforming one list into another. A more **pythonic** way of doing it is to use **list comprehensions**  \n",
    "`list_variable = [x for x in iterable]`"
   ]
  },
  {
   "cell_type": "code",
   "execution_count": 287,
   "metadata": {},
   "outputs": [
    {
     "name": "stdout",
     "output_type": "stream",
     "text": [
      "[2, 8, 6, 14, 18]\n"
     ]
    }
   ],
   "source": [
    "myList=[1,4,3,7,9]\n",
    "myList=[2*e for e in myList]\n",
    "print(myList)"
   ]
  },
  {
   "cell_type": "markdown",
   "metadata": {},
   "source": [
    "**Challenge 1b:**\n",
    "Write a `for loop` to multiply each element of `myList=[1,4,3,8,9]` by `2` if a list element is an even number. Output a list."
   ]
  },
  {
   "cell_type": "code",
   "execution_count": 288,
   "metadata": {},
   "outputs": [
    {
     "name": "stdout",
     "output_type": "stream",
     "text": [
      "[8, 16]\n"
     ]
    }
   ],
   "source": [
    "#Solution to Challenge 1b:\n",
    "myList=[1,4,3,8,9]\n",
    "newList=[]\n",
    "for e in myList:\n",
    "    if e%2==0:\n",
    "        new_e=2*e\n",
    "        newList.append(new_e)\n",
    "print(newList)"
   ]
  },
  {
   "cell_type": "markdown",
   "metadata": {},
   "source": [
    "**Challenge 1c:** rewrite loop in `Challenge 1b` as list comprehension"
   ]
  },
  {
   "cell_type": "code",
   "execution_count": 289,
   "metadata": {},
   "outputs": [
    {
     "name": "stdout",
     "output_type": "stream",
     "text": [
      "[8, 16]\n"
     ]
    }
   ],
   "source": [
    "#Solution to challenge 1c:\n",
    "myList=[1,4,3,7,9]\n",
    "newlist=[2*e for e in myList if e%2==0]\n",
    "print(newList)"
   ]
  },
  {
   "cell_type": "markdown",
   "metadata": {},
   "source": [
    "**Super Challenge**  \n",
    "Suppose you have this list:  `listOfLists=[[2,3,4],[23,12],[2]]`  \n",
    "\n",
    "1. Write for loop that records elements of every list within this list into a single list called `flatList` \n",
    "2. Rewrite the loop from 1 using list comprehensions  "
   ]
  },
  {
   "cell_type": "code",
   "execution_count": 290,
   "metadata": {},
   "outputs": [
    {
     "name": "stdout",
     "output_type": "stream",
     "text": [
      "[2, 3, 4, 23, 12, 2]\n",
      "[2, 3, 4, 23, 12, 2]\n"
     ]
    }
   ],
   "source": [
    "#Solution to Super Challenge:\n",
    "listOfLists=[[2,3,4],[23,12],[2]]\n",
    "\n",
    "#1\n",
    "flatList=[]\n",
    "for sublist in listOfLists:\n",
    "    for e in sublist:\n",
    "        flatList.append(e)\n",
    "print(flatList) \n",
    "\n",
    "#2\n",
    "flatList=[e for sublist in listOfLists for e in sublist]\n",
    "print(flatList)"
   ]
  },
  {
   "cell_type": "markdown",
   "metadata": {},
   "source": [
    "**Iterating over python dictionaries**"
   ]
  },
  {
   "cell_type": "code",
   "execution_count": 291,
   "metadata": {},
   "outputs": [
    {
     "name": "stdout",
     "output_type": "stream",
     "text": [
      "dog boss\n",
      "rooms {'play': 'one', 'bedroom': 1}\n",
      "price high\n",
      "trees ['oaks', 'bamboo']\n"
     ]
    }
   ],
   "source": [
    "a_dict={'dog':'boss','rooms':{'play':'one','bedroom':1}, 'price':'high','trees':['oaks','bamboo']}\n",
    "for key,value in a_dict.items():\n",
    "    print(key,value)"
   ]
  },
  {
   "cell_type": "code",
   "execution_count": 292,
   "metadata": {},
   "outputs": [
    {
     "data": {
      "text/plain": [
       "dict_items([('dog', 'boss'), ('rooms', {'play': 'one', 'bedroom': 1}), ('price', 'high'), ('trees', ['oaks', 'bamboo'])])"
      ]
     },
     "execution_count": 292,
     "metadata": {},
     "output_type": "execute_result"
    }
   ],
   "source": [
    "#a_dict.items() is a list of tuples\n",
    "a_dict.items()"
   ]
  },
  {
   "cell_type": "code",
   "execution_count": 293,
   "metadata": {},
   "outputs": [
    {
     "name": "stdout",
     "output_type": "stream",
     "text": [
      "dog\n",
      "rooms\n",
      "price\n",
      "trees\n"
     ]
    }
   ],
   "source": [
    "#get keys\n",
    "for key in a_dict.keys():\n",
    "    print(key)"
   ]
  },
  {
   "cell_type": "code",
   "execution_count": 294,
   "metadata": {},
   "outputs": [
    {
     "data": {
      "text/plain": [
       "dict_keys(['dog', 'rooms', 'price', 'trees'])"
      ]
     },
     "execution_count": 294,
     "metadata": {},
     "output_type": "execute_result"
    }
   ],
   "source": [
    "a_dict.keys()"
   ]
  },
  {
   "cell_type": "code",
   "execution_count": 295,
   "metadata": {},
   "outputs": [
    {
     "name": "stdout",
     "output_type": "stream",
     "text": [
      "boss\n",
      "{'play': 'one', 'bedroom': 1}\n",
      "high\n",
      "['oaks', 'bamboo']\n"
     ]
    }
   ],
   "source": [
    "#get values\n",
    "for value in a_dict.values():\n",
    "    print(value)"
   ]
  },
  {
   "cell_type": "code",
   "execution_count": 298,
   "metadata": {},
   "outputs": [
    {
     "name": "stdout",
     "output_type": "stream",
     "text": [
      "rooms\n"
     ]
    }
   ],
   "source": [
    "for key, value in a_dict.items():    \n",
    "    if value == {'play': 'one', 'bedroom': 1}:\n",
    "        print(key)"
   ]
  },
  {
   "cell_type": "markdown",
   "metadata": {},
   "source": [
    "**Dictionary comprehensions**: transform one dictionary into another   \n",
    "`dict_variable = {key:value for (key,value) in dictonary.items()}`"
   ]
  },
  {
   "cell_type": "code",
   "execution_count": 299,
   "metadata": {},
   "outputs": [
    {
     "name": "stdout",
     "output_type": "stream",
     "text": [
      "{'book': 5, 'notebook': 3, 'pen': 1}\n"
     ]
    }
   ],
   "source": [
    "#using loop\n",
    "b_dict={'book':5,'notebook': 3,'pen':1}\n",
    "new_dict={}\n",
    "for key,value in b_dict.items():\n",
    "    new_dict[key]=value\n",
    "print(new_dict)"
   ]
  },
  {
   "cell_type": "code",
   "execution_count": 300,
   "metadata": {},
   "outputs": [
    {
     "name": "stdout",
     "output_type": "stream",
     "text": [
      "{'book': 5, 'notebook': 3, 'pen': 1}\n"
     ]
    }
   ],
   "source": [
    "#with dictionary comprehensions\n",
    "new_dict={k:v for (k,v) in b_dict.items()}\n",
    "print(new_dict)"
   ]
  },
  {
   "cell_type": "code",
   "execution_count": 301,
   "metadata": {},
   "outputs": [
    {
     "name": "stdout",
     "output_type": "stream",
     "text": [
      "{'book': 15, 'notebook': 9, 'pen': 3}\n"
     ]
    }
   ],
   "source": [
    "#triple every value\n",
    "new_dict={k:v*3 for (k,v) in b_dict.items()}\n",
    "print(new_dict)"
   ]
  },
  {
   "cell_type": "markdown",
   "metadata": {},
   "source": [
    "**Challenge:** modify above so that the new_dict has tripled values only if the original value is less than 4:  \n",
    "`b_dict={'book':5,'notebook': 3,'pen':1}`  "
   ]
  },
  {
   "cell_type": "code",
   "execution_count": 303,
   "metadata": {},
   "outputs": [
    {
     "name": "stdout",
     "output_type": "stream",
     "text": [
      "{'notebook': 9, 'pen': 3}\n"
     ]
    }
   ],
   "source": [
    "#Solution\n",
    "new_dict={k:v*3 for (k,v) in b_dict.items() if v<4}\n",
    "print(new_dict)"
   ]
  },
  {
   "cell_type": "markdown",
   "metadata": {},
   "source": [
    "## Function: set of rules that transforms input to output"
   ]
  },
  {
   "cell_type": "code",
   "execution_count": 304,
   "metadata": {},
   "outputs": [
    {
     "data": {
      "text/plain": [
       "7"
      ]
     },
     "execution_count": 304,
     "metadata": {},
     "output_type": "execute_result"
    }
   ],
   "source": [
    "#Built-in functiona\n",
    "sum([3,4])"
   ]
  },
  {
   "cell_type": "code",
   "execution_count": 305,
   "metadata": {},
   "outputs": [
    {
     "name": "stdout",
     "output_type": "stream",
     "text": [
      "Help on built-in function sum in module builtins:\n",
      "\n",
      "sum(iterable, start=0, /)\n",
      "    Return the sum of a 'start' value (default: 0) plus an iterable of numbers\n",
      "    \n",
      "    When the iterable is empty, return the start value.\n",
      "    This function is intended specifically for use with numeric values and may\n",
      "    reject non-numeric types.\n",
      "\n"
     ]
    }
   ],
   "source": [
    "help(sum)"
   ]
  },
  {
   "cell_type": "code",
   "execution_count": 306,
   "metadata": {},
   "outputs": [
    {
     "data": {
      "text/plain": [
       "8.0"
      ]
     },
     "execution_count": 306,
     "metadata": {},
     "output_type": "execute_result"
    }
   ],
   "source": [
    "#methods: function defined in classes\n",
    "import math\n",
    "math.sqrt(64)"
   ]
  },
  {
   "cell_type": "code",
   "execution_count": 307,
   "metadata": {
    "collapsed": true
   },
   "outputs": [
    {
     "name": "stdout",
     "output_type": "stream",
     "text": [
      "Help on module math:\n",
      "\n",
      "NAME\n",
      "    math\n",
      "\n",
      "MODULE REFERENCE\n",
      "    https://docs.python.org/3.7/library/math\n",
      "    \n",
      "    The following documentation is automatically generated from the Python\n",
      "    source files.  It may be incomplete, incorrect or include features that\n",
      "    are considered implementation detail and may vary between Python\n",
      "    implementations.  When in doubt, consult the module reference at the\n",
      "    location listed above.\n",
      "\n",
      "DESCRIPTION\n",
      "    This module is always available.  It provides access to the\n",
      "    mathematical functions defined by the C standard.\n",
      "\n",
      "FUNCTIONS\n",
      "    acos(x, /)\n",
      "        Return the arc cosine (measured in radians) of x.\n",
      "    \n",
      "    acosh(x, /)\n",
      "        Return the inverse hyperbolic cosine of x.\n",
      "    \n",
      "    asin(x, /)\n",
      "        Return the arc sine (measured in radians) of x.\n",
      "    \n",
      "    asinh(x, /)\n",
      "        Return the inverse hyperbolic sine of x.\n",
      "    \n",
      "    atan(x, /)\n",
      "        Return the arc tangent (measured in radians) of x.\n",
      "    \n",
      "    atan2(y, x, /)\n",
      "        Return the arc tangent (measured in radians) of y/x.\n",
      "        \n",
      "        Unlike atan(y/x), the signs of both x and y are considered.\n",
      "    \n",
      "    atanh(x, /)\n",
      "        Return the inverse hyperbolic tangent of x.\n",
      "    \n",
      "    ceil(x, /)\n",
      "        Return the ceiling of x as an Integral.\n",
      "        \n",
      "        This is the smallest integer >= x.\n",
      "    \n",
      "    copysign(x, y, /)\n",
      "        Return a float with the magnitude (absolute value) of x but the sign of y.\n",
      "        \n",
      "        On platforms that support signed zeros, copysign(1.0, -0.0)\n",
      "        returns -1.0.\n",
      "    \n",
      "    cos(x, /)\n",
      "        Return the cosine of x (measured in radians).\n",
      "    \n",
      "    cosh(x, /)\n",
      "        Return the hyperbolic cosine of x.\n",
      "    \n",
      "    degrees(x, /)\n",
      "        Convert angle x from radians to degrees.\n",
      "    \n",
      "    erf(x, /)\n",
      "        Error function at x.\n",
      "    \n",
      "    erfc(x, /)\n",
      "        Complementary error function at x.\n",
      "    \n",
      "    exp(x, /)\n",
      "        Return e raised to the power of x.\n",
      "    \n",
      "    expm1(x, /)\n",
      "        Return exp(x)-1.\n",
      "        \n",
      "        This function avoids the loss of precision involved in the direct evaluation of exp(x)-1 for small x.\n",
      "    \n",
      "    fabs(x, /)\n",
      "        Return the absolute value of the float x.\n",
      "    \n",
      "    factorial(x, /)\n",
      "        Find x!.\n",
      "        \n",
      "        Raise a ValueError if x is negative or non-integral.\n",
      "    \n",
      "    floor(x, /)\n",
      "        Return the floor of x as an Integral.\n",
      "        \n",
      "        This is the largest integer <= x.\n",
      "    \n",
      "    fmod(x, y, /)\n",
      "        Return fmod(x, y), according to platform C.\n",
      "        \n",
      "        x % y may differ.\n",
      "    \n",
      "    frexp(x, /)\n",
      "        Return the mantissa and exponent of x, as pair (m, e).\n",
      "        \n",
      "        m is a float and e is an int, such that x = m * 2.**e.\n",
      "        If x is 0, m and e are both 0.  Else 0.5 <= abs(m) < 1.0.\n",
      "    \n",
      "    fsum(seq, /)\n",
      "        Return an accurate floating point sum of values in the iterable seq.\n",
      "        \n",
      "        Assumes IEEE-754 floating point arithmetic.\n",
      "    \n",
      "    gamma(x, /)\n",
      "        Gamma function at x.\n",
      "    \n",
      "    gcd(x, y, /)\n",
      "        greatest common divisor of x and y\n",
      "    \n",
      "    hypot(x, y, /)\n",
      "        Return the Euclidean distance, sqrt(x*x + y*y).\n",
      "    \n",
      "    isclose(a, b, *, rel_tol=1e-09, abs_tol=0.0)\n",
      "        Determine whether two floating point numbers are close in value.\n",
      "        \n",
      "          rel_tol\n",
      "            maximum difference for being considered \"close\", relative to the\n",
      "            magnitude of the input values\n",
      "          abs_tol\n",
      "            maximum difference for being considered \"close\", regardless of the\n",
      "            magnitude of the input values\n",
      "        \n",
      "        Return True if a is close in value to b, and False otherwise.\n",
      "        \n",
      "        For the values to be considered close, the difference between them\n",
      "        must be smaller than at least one of the tolerances.\n",
      "        \n",
      "        -inf, inf and NaN behave similarly to the IEEE 754 Standard.  That\n",
      "        is, NaN is not close to anything, even itself.  inf and -inf are\n",
      "        only close to themselves.\n",
      "    \n",
      "    isfinite(x, /)\n",
      "        Return True if x is neither an infinity nor a NaN, and False otherwise.\n",
      "    \n",
      "    isinf(x, /)\n",
      "        Return True if x is a positive or negative infinity, and False otherwise.\n",
      "    \n",
      "    isnan(x, /)\n",
      "        Return True if x is a NaN (not a number), and False otherwise.\n",
      "    \n",
      "    ldexp(x, i, /)\n",
      "        Return x * (2**i).\n",
      "        \n",
      "        This is essentially the inverse of frexp().\n",
      "    \n",
      "    lgamma(x, /)\n",
      "        Natural logarithm of absolute value of Gamma function at x.\n",
      "    \n",
      "    log(...)\n",
      "        log(x, [base=math.e])\n",
      "        Return the logarithm of x to the given base.\n",
      "        \n",
      "        If the base not specified, returns the natural logarithm (base e) of x.\n",
      "    \n",
      "    log10(x, /)\n",
      "        Return the base 10 logarithm of x.\n",
      "    \n",
      "    log1p(x, /)\n",
      "        Return the natural logarithm of 1+x (base e).\n",
      "        \n",
      "        The result is computed in a way which is accurate for x near zero.\n",
      "    \n",
      "    log2(x, /)\n",
      "        Return the base 2 logarithm of x.\n",
      "    \n",
      "    modf(x, /)\n",
      "        Return the fractional and integer parts of x.\n",
      "        \n",
      "        Both results carry the sign of x and are floats.\n",
      "    \n",
      "    pow(x, y, /)\n",
      "        Return x**y (x to the power of y).\n",
      "    \n",
      "    radians(x, /)\n",
      "        Convert angle x from degrees to radians.\n",
      "    \n",
      "    remainder(x, y, /)\n",
      "        Difference between x and the closest integer multiple of y.\n",
      "        \n",
      "        Return x - n*y where n*y is the closest integer multiple of y.\n",
      "        In the case where x is exactly halfway between two multiples of\n",
      "        y, the nearest even value of n is used. The result is always exact.\n",
      "    \n",
      "    sin(x, /)\n",
      "        Return the sine of x (measured in radians).\n",
      "    \n",
      "    sinh(x, /)\n",
      "        Return the hyperbolic sine of x.\n",
      "    \n",
      "    sqrt(x, /)\n",
      "        Return the square root of x.\n",
      "    \n",
      "    tan(x, /)\n",
      "        Return the tangent of x (measured in radians).\n",
      "    \n",
      "    tanh(x, /)\n",
      "        Return the hyperbolic tangent of x.\n",
      "    \n",
      "    trunc(x, /)\n",
      "        Truncates the Real x to the nearest Integral toward 0.\n",
      "        \n",
      "        Uses the __trunc__ magic method.\n",
      "\n",
      "DATA\n",
      "    e = 2.718281828459045\n",
      "    inf = inf\n",
      "    nan = nan\n",
      "    pi = 3.141592653589793\n",
      "    tau = 6.283185307179586\n",
      "\n",
      "FILE\n",
      "    /miniconda3/lib/python3.7/lib-dynload/math.cpython-37m-darwin.so\n",
      "\n",
      "\n"
     ]
    }
   ],
   "source": [
    "help(math)"
   ]
  },
  {
   "cell_type": "code",
   "execution_count": 308,
   "metadata": {},
   "outputs": [
    {
     "name": "stdout",
     "output_type": "stream",
     "text": [
      "105 ns ± 1.33 ns per loop (mean ± std. dev. of 7 runs, 10000000 loops each)\n"
     ]
    }
   ],
   "source": [
    "#user-defines functions\n",
    "\n",
    "def multiply(x,y):\n",
    "    return x*y\n",
    "\n",
    "%timeit multiply(3,5)"
   ]
  },
  {
   "cell_type": "code",
   "execution_count": 309,
   "metadata": {},
   "outputs": [
    {
     "name": "stdout",
     "output_type": "stream",
     "text": [
      "10.7 ns ± 0.0925 ns per loop (mean ± std. dev. of 7 runs, 100000000 loops each)\n"
     ]
    }
   ],
   "source": [
    "%timeit (3*5)"
   ]
  },
  {
   "cell_type": "markdown",
   "metadata": {},
   "source": [
    "**Challenge 2**\n",
    "\n",
    "Write a function called `fence` that takes two parameters called `original` and `wrapper` and returns a new string that has the wrapper character at the beginning and end of the original.  \n",
    "Hint: to concatinate strings, use + operator.  \n",
    "Example of function call:  \n",
    "`fence('name', '---')`  \n",
    "Expected output:    \n",
    "`---name---`"
   ]
  },
  {
   "cell_type": "code",
   "execution_count": 310,
   "metadata": {},
   "outputs": [
    {
     "name": "stdout",
     "output_type": "stream",
     "text": [
      "----Anya----\n"
     ]
    }
   ],
   "source": [
    "#Solution to Challenge 2\n",
    "def fence(original, wrapper):  \n",
    "    new_string=wrapper + original + wrapper\n",
    "    return new_string\n",
    "\n",
    "print(fence(\"Anya\",\"----\"))"
   ]
  },
  {
   "cell_type": "code",
   "execution_count": 311,
   "metadata": {},
   "outputs": [
    {
     "name": "stdout",
     "output_type": "stream",
     "text": [
      "4\n",
      "5\n",
      "6\n",
      "7\n",
      "8\n"
     ]
    }
   ],
   "source": [
    "#recursive functions\n",
    "#sequence: an=n+4; n=0, a0=4; n=1, a1=5; n=2, a2=6\n",
    "#recursive form:an=a(n-1)+1 with a0=4\n",
    "def seq(n):\n",
    "    if n==0:\n",
    "        return 4\n",
    "    else:\n",
    "        return seq(n-1)+1\n",
    "\n",
    "for i in range(0,5):\n",
    "    print(seq(i))"
   ]
  },
  {
   "cell_type": "code",
   "execution_count": 312,
   "metadata": {},
   "outputs": [
    {
     "name": "stdout",
     "output_type": "stream",
     "text": [
      "4\n",
      "5\n",
      "6\n",
      "7\n",
      "8\n"
     ]
    }
   ],
   "source": [
    "def seq2(n):\n",
    "    # an=n+4\n",
    "    for i in range(0,n):\n",
    "        print(i+4)\n",
    "seq2(5)\n"
   ]
  },
  {
   "cell_type": "markdown",
   "metadata": {},
   "source": [
    "## Practice with a dataset:\n",
    "Link to data: "
   ]
  },
  {
   "cell_type": "code",
   "execution_count": 313,
   "metadata": {},
   "outputs": [],
   "source": [
    "#import pandas\n",
    "import pandas as pd\n",
    "\n",
    "#Read in tab separated file\n",
    "#my_file = pd.read_csv(\"gapminder.txt\", delimiter = \"\\t\")\n",
    "myData_df=pd.read_csv(\"gapminder.txt\", delimiter = \"\\t\")"
   ]
  },
  {
   "cell_type": "code",
   "execution_count": 314,
   "metadata": {
    "scrolled": true
   },
   "outputs": [
    {
     "data": {
      "text/html": [
       "<div>\n",
       "<style scoped>\n",
       "    .dataframe tbody tr th:only-of-type {\n",
       "        vertical-align: middle;\n",
       "    }\n",
       "\n",
       "    .dataframe tbody tr th {\n",
       "        vertical-align: top;\n",
       "    }\n",
       "\n",
       "    .dataframe thead th {\n",
       "        text-align: right;\n",
       "    }\n",
       "</style>\n",
       "<table border=\"1\" class=\"dataframe\">\n",
       "  <thead>\n",
       "    <tr style=\"text-align: right;\">\n",
       "      <th></th>\n",
       "      <th>country</th>\n",
       "      <th>continent</th>\n",
       "      <th>year</th>\n",
       "      <th>lifeExp</th>\n",
       "      <th>pop</th>\n",
       "      <th>gdpPercap</th>\n",
       "    </tr>\n",
       "  </thead>\n",
       "  <tbody>\n",
       "    <tr>\n",
       "      <th>0</th>\n",
       "      <td>Afghanistan</td>\n",
       "      <td>Asia</td>\n",
       "      <td>1952</td>\n",
       "      <td>28.801</td>\n",
       "      <td>8425333</td>\n",
       "      <td>779.445314</td>\n",
       "    </tr>\n",
       "    <tr>\n",
       "      <th>1</th>\n",
       "      <td>Afghanistan</td>\n",
       "      <td>Asia</td>\n",
       "      <td>1957</td>\n",
       "      <td>30.332</td>\n",
       "      <td>9240934</td>\n",
       "      <td>820.853030</td>\n",
       "    </tr>\n",
       "    <tr>\n",
       "      <th>2</th>\n",
       "      <td>Afghanistan</td>\n",
       "      <td>Asia</td>\n",
       "      <td>1962</td>\n",
       "      <td>31.997</td>\n",
       "      <td>10267083</td>\n",
       "      <td>853.100710</td>\n",
       "    </tr>\n",
       "    <tr>\n",
       "      <th>3</th>\n",
       "      <td>Afghanistan</td>\n",
       "      <td>Asia</td>\n",
       "      <td>1967</td>\n",
       "      <td>34.020</td>\n",
       "      <td>11537966</td>\n",
       "      <td>836.197138</td>\n",
       "    </tr>\n",
       "    <tr>\n",
       "      <th>4</th>\n",
       "      <td>Afghanistan</td>\n",
       "      <td>Asia</td>\n",
       "      <td>1972</td>\n",
       "      <td>36.088</td>\n",
       "      <td>13079460</td>\n",
       "      <td>739.981106</td>\n",
       "    </tr>\n",
       "  </tbody>\n",
       "</table>\n",
       "</div>"
      ],
      "text/plain": [
       "       country continent  year  lifeExp       pop   gdpPercap\n",
       "0  Afghanistan      Asia  1952   28.801   8425333  779.445314\n",
       "1  Afghanistan      Asia  1957   30.332   9240934  820.853030\n",
       "2  Afghanistan      Asia  1962   31.997  10267083  853.100710\n",
       "3  Afghanistan      Asia  1967   34.020  11537966  836.197138\n",
       "4  Afghanistan      Asia  1972   36.088  13079460  739.981106"
      ]
     },
     "execution_count": 314,
     "metadata": {},
     "output_type": "execute_result"
    }
   ],
   "source": [
    "myData_df.head()"
   ]
  },
  {
   "cell_type": "code",
   "execution_count": 315,
   "metadata": {},
   "outputs": [
    {
     "name": "stdout",
     "output_type": "stream",
     "text": [
      "<class 'pandas.core.frame.DataFrame'>\n",
      "RangeIndex: 1704 entries, 0 to 1703\n",
      "Data columns (total 6 columns):\n",
      "country      1704 non-null object\n",
      "continent    1704 non-null object\n",
      "year         1704 non-null int64\n",
      "lifeExp      1704 non-null float64\n",
      "pop          1704 non-null int64\n",
      "gdpPercap    1704 non-null float64\n",
      "dtypes: float64(2), int64(2), object(2)\n",
      "memory usage: 80.0+ KB\n"
     ]
    }
   ],
   "source": [
    "myData_df.info()"
   ]
  },
  {
   "cell_type": "code",
   "execution_count": 317,
   "metadata": {},
   "outputs": [],
   "source": [
    "myData_dict=dict(myData_df)"
   ]
  },
  {
   "cell_type": "code",
   "execution_count": 318,
   "metadata": {
    "collapsed": true
   },
   "outputs": [
    {
     "data": {
      "text/plain": [
       "['Afghanistan',\n",
       " 'Afghanistan',\n",
       " 'Afghanistan',\n",
       " 'Afghanistan',\n",
       " 'Afghanistan',\n",
       " 'Afghanistan',\n",
       " 'Afghanistan',\n",
       " 'Afghanistan',\n",
       " 'Afghanistan',\n",
       " 'Afghanistan',\n",
       " 'Afghanistan',\n",
       " 'Afghanistan',\n",
       " 'Albania',\n",
       " 'Albania',\n",
       " 'Albania',\n",
       " 'Albania',\n",
       " 'Albania',\n",
       " 'Albania',\n",
       " 'Albania',\n",
       " 'Albania',\n",
       " 'Albania',\n",
       " 'Albania',\n",
       " 'Albania',\n",
       " 'Albania',\n",
       " 'Algeria',\n",
       " 'Algeria',\n",
       " 'Algeria',\n",
       " 'Algeria',\n",
       " 'Algeria',\n",
       " 'Algeria',\n",
       " 'Algeria',\n",
       " 'Algeria',\n",
       " 'Algeria',\n",
       " 'Algeria',\n",
       " 'Algeria',\n",
       " 'Algeria',\n",
       " 'Angola',\n",
       " 'Angola',\n",
       " 'Angola',\n",
       " 'Angola',\n",
       " 'Angola',\n",
       " 'Angola',\n",
       " 'Angola',\n",
       " 'Angola',\n",
       " 'Angola',\n",
       " 'Angola',\n",
       " 'Angola',\n",
       " 'Angola',\n",
       " 'Argentina',\n",
       " 'Argentina',\n",
       " 'Argentina',\n",
       " 'Argentina',\n",
       " 'Argentina',\n",
       " 'Argentina',\n",
       " 'Argentina',\n",
       " 'Argentina',\n",
       " 'Argentina',\n",
       " 'Argentina',\n",
       " 'Argentina',\n",
       " 'Argentina',\n",
       " 'Australia',\n",
       " 'Australia',\n",
       " 'Australia',\n",
       " 'Australia',\n",
       " 'Australia',\n",
       " 'Australia',\n",
       " 'Australia',\n",
       " 'Australia',\n",
       " 'Australia',\n",
       " 'Australia',\n",
       " 'Australia',\n",
       " 'Australia',\n",
       " 'Austria',\n",
       " 'Austria',\n",
       " 'Austria',\n",
       " 'Austria',\n",
       " 'Austria',\n",
       " 'Austria',\n",
       " 'Austria',\n",
       " 'Austria',\n",
       " 'Austria',\n",
       " 'Austria',\n",
       " 'Austria',\n",
       " 'Austria',\n",
       " 'Bahrain',\n",
       " 'Bahrain',\n",
       " 'Bahrain',\n",
       " 'Bahrain',\n",
       " 'Bahrain',\n",
       " 'Bahrain',\n",
       " 'Bahrain',\n",
       " 'Bahrain',\n",
       " 'Bahrain',\n",
       " 'Bahrain',\n",
       " 'Bahrain',\n",
       " 'Bahrain',\n",
       " 'Bangladesh',\n",
       " 'Bangladesh',\n",
       " 'Bangladesh',\n",
       " 'Bangladesh',\n",
       " 'Bangladesh',\n",
       " 'Bangladesh',\n",
       " 'Bangladesh',\n",
       " 'Bangladesh',\n",
       " 'Bangladesh',\n",
       " 'Bangladesh',\n",
       " 'Bangladesh',\n",
       " 'Bangladesh',\n",
       " 'Belgium',\n",
       " 'Belgium',\n",
       " 'Belgium',\n",
       " 'Belgium',\n",
       " 'Belgium',\n",
       " 'Belgium',\n",
       " 'Belgium',\n",
       " 'Belgium',\n",
       " 'Belgium',\n",
       " 'Belgium',\n",
       " 'Belgium',\n",
       " 'Belgium',\n",
       " 'Benin',\n",
       " 'Benin',\n",
       " 'Benin',\n",
       " 'Benin',\n",
       " 'Benin',\n",
       " 'Benin',\n",
       " 'Benin',\n",
       " 'Benin',\n",
       " 'Benin',\n",
       " 'Benin',\n",
       " 'Benin',\n",
       " 'Benin',\n",
       " 'Bolivia',\n",
       " 'Bolivia',\n",
       " 'Bolivia',\n",
       " 'Bolivia',\n",
       " 'Bolivia',\n",
       " 'Bolivia',\n",
       " 'Bolivia',\n",
       " 'Bolivia',\n",
       " 'Bolivia',\n",
       " 'Bolivia',\n",
       " 'Bolivia',\n",
       " 'Bolivia',\n",
       " 'Bosnia_and_Herzegovina',\n",
       " 'Bosnia_and_Herzegovina',\n",
       " 'Bosnia_and_Herzegovina',\n",
       " 'Bosnia_and_Herzegovina',\n",
       " 'Bosnia_and_Herzegovina',\n",
       " 'Bosnia_and_Herzegovina',\n",
       " 'Bosnia_and_Herzegovina',\n",
       " 'Bosnia_and_Herzegovina',\n",
       " 'Bosnia_and_Herzegovina',\n",
       " 'Bosnia_and_Herzegovina',\n",
       " 'Bosnia_and_Herzegovina',\n",
       " 'Bosnia_and_Herzegovina',\n",
       " 'Botswana',\n",
       " 'Botswana',\n",
       " 'Botswana',\n",
       " 'Botswana',\n",
       " 'Botswana',\n",
       " 'Botswana',\n",
       " 'Botswana',\n",
       " 'Botswana',\n",
       " 'Botswana',\n",
       " 'Botswana',\n",
       " 'Botswana',\n",
       " 'Botswana',\n",
       " 'Brazil',\n",
       " 'Brazil',\n",
       " 'Brazil',\n",
       " 'Brazil',\n",
       " 'Brazil',\n",
       " 'Brazil',\n",
       " 'Brazil',\n",
       " 'Brazil',\n",
       " 'Brazil',\n",
       " 'Brazil',\n",
       " 'Brazil',\n",
       " 'Brazil',\n",
       " 'Bulgaria',\n",
       " 'Bulgaria',\n",
       " 'Bulgaria',\n",
       " 'Bulgaria',\n",
       " 'Bulgaria',\n",
       " 'Bulgaria',\n",
       " 'Bulgaria',\n",
       " 'Bulgaria',\n",
       " 'Bulgaria',\n",
       " 'Bulgaria',\n",
       " 'Bulgaria',\n",
       " 'Bulgaria',\n",
       " 'Burkina_Faso',\n",
       " 'Burkina_Faso',\n",
       " 'Burkina_Faso',\n",
       " 'Burkina_Faso',\n",
       " 'Burkina_Faso',\n",
       " 'Burkina_Faso',\n",
       " 'Burkina_Faso',\n",
       " 'Burkina_Faso',\n",
       " 'Burkina_Faso',\n",
       " 'Burkina_Faso',\n",
       " 'Burkina_Faso',\n",
       " 'Burkina_Faso',\n",
       " 'Burundi',\n",
       " 'Burundi',\n",
       " 'Burundi',\n",
       " 'Burundi',\n",
       " 'Burundi',\n",
       " 'Burundi',\n",
       " 'Burundi',\n",
       " 'Burundi',\n",
       " 'Burundi',\n",
       " 'Burundi',\n",
       " 'Burundi',\n",
       " 'Burundi',\n",
       " 'Cambodia',\n",
       " 'Cambodia',\n",
       " 'Cambodia',\n",
       " 'Cambodia',\n",
       " 'Cambodia',\n",
       " 'Cambodia',\n",
       " 'Cambodia',\n",
       " 'Cambodia',\n",
       " 'Cambodia',\n",
       " 'Cambodia',\n",
       " 'Cambodia',\n",
       " 'Cambodia',\n",
       " 'Cameroon',\n",
       " 'Cameroon',\n",
       " 'Cameroon',\n",
       " 'Cameroon',\n",
       " 'Cameroon',\n",
       " 'Cameroon',\n",
       " 'Cameroon',\n",
       " 'Cameroon',\n",
       " 'Cameroon',\n",
       " 'Cameroon',\n",
       " 'Cameroon',\n",
       " 'Cameroon',\n",
       " 'Canada',\n",
       " 'Canada',\n",
       " 'Canada',\n",
       " 'Canada',\n",
       " 'Canada',\n",
       " 'Canada',\n",
       " 'Canada',\n",
       " 'Canada',\n",
       " 'Canada',\n",
       " 'Canada',\n",
       " 'Canada',\n",
       " 'Canada',\n",
       " 'Central_African_Republic',\n",
       " 'Central_African_Republic',\n",
       " 'Central_African_Republic',\n",
       " 'Central_African_Republic',\n",
       " 'Central_African_Republic',\n",
       " 'Central_African_Republic',\n",
       " 'Central_African_Republic',\n",
       " 'Central_African_Republic',\n",
       " 'Central_African_Republic',\n",
       " 'Central_African_Republic',\n",
       " 'Central_African_Republic',\n",
       " 'Central_African_Republic',\n",
       " 'Chad',\n",
       " 'Chad',\n",
       " 'Chad',\n",
       " 'Chad',\n",
       " 'Chad',\n",
       " 'Chad',\n",
       " 'Chad',\n",
       " 'Chad',\n",
       " 'Chad',\n",
       " 'Chad',\n",
       " 'Chad',\n",
       " 'Chad',\n",
       " 'Chile',\n",
       " 'Chile',\n",
       " 'Chile',\n",
       " 'Chile',\n",
       " 'Chile',\n",
       " 'Chile',\n",
       " 'Chile',\n",
       " 'Chile',\n",
       " 'Chile',\n",
       " 'Chile',\n",
       " 'Chile',\n",
       " 'Chile',\n",
       " 'China',\n",
       " 'China',\n",
       " 'China',\n",
       " 'China',\n",
       " 'China',\n",
       " 'China',\n",
       " 'China',\n",
       " 'China',\n",
       " 'China',\n",
       " 'China',\n",
       " 'China',\n",
       " 'China',\n",
       " 'Colombia',\n",
       " 'Colombia',\n",
       " 'Colombia',\n",
       " 'Colombia',\n",
       " 'Colombia',\n",
       " 'Colombia',\n",
       " 'Colombia',\n",
       " 'Colombia',\n",
       " 'Colombia',\n",
       " 'Colombia',\n",
       " 'Colombia',\n",
       " 'Colombia',\n",
       " 'Comoros',\n",
       " 'Comoros',\n",
       " 'Comoros',\n",
       " 'Comoros',\n",
       " 'Comoros',\n",
       " 'Comoros',\n",
       " 'Comoros',\n",
       " 'Comoros',\n",
       " 'Comoros',\n",
       " 'Comoros',\n",
       " 'Comoros',\n",
       " 'Comoros',\n",
       " 'Congo_Dem_Rep',\n",
       " 'Congo_Dem_Rep',\n",
       " 'Congo_Dem_Rep',\n",
       " 'Congo_Dem_Rep',\n",
       " 'Congo_Dem_Rep',\n",
       " 'Congo_Dem_Rep',\n",
       " 'Congo_Dem_Rep',\n",
       " 'Congo_Dem_Rep',\n",
       " 'Congo_Dem_Rep',\n",
       " 'Congo_Dem_Rep',\n",
       " 'Congo_Dem_Rep',\n",
       " 'Congo_Dem_Rep',\n",
       " 'Congo_Rep',\n",
       " 'Congo_Rep',\n",
       " 'Congo_Rep',\n",
       " 'Congo_Rep',\n",
       " 'Congo_Rep',\n",
       " 'Congo_Rep',\n",
       " 'Congo_Rep',\n",
       " 'Congo_Rep',\n",
       " 'Congo_Rep',\n",
       " 'Congo_Rep',\n",
       " 'Congo_Rep',\n",
       " 'Congo_Rep',\n",
       " 'Costa_Rica',\n",
       " 'Costa_Rica',\n",
       " 'Costa_Rica',\n",
       " 'Costa_Rica',\n",
       " 'Costa_Rica',\n",
       " 'Costa_Rica',\n",
       " 'Costa_Rica',\n",
       " 'Costa_Rica',\n",
       " 'Costa_Rica',\n",
       " 'Costa_Rica',\n",
       " 'Costa_Rica',\n",
       " 'Costa_Rica',\n",
       " \"Cote_d'Ivoire\",\n",
       " \"Cote_d'Ivoire\",\n",
       " \"Cote_d'Ivoire\",\n",
       " \"Cote_d'Ivoire\",\n",
       " \"Cote_d'Ivoire\",\n",
       " \"Cote_d'Ivoire\",\n",
       " \"Cote_d'Ivoire\",\n",
       " \"Cote_d'Ivoire\",\n",
       " \"Cote_d'Ivoire\",\n",
       " \"Cote_d'Ivoire\",\n",
       " \"Cote_d'Ivoire\",\n",
       " \"Cote_d'Ivoire\",\n",
       " 'Croatia',\n",
       " 'Croatia',\n",
       " 'Croatia',\n",
       " 'Croatia',\n",
       " 'Croatia',\n",
       " 'Croatia',\n",
       " 'Croatia',\n",
       " 'Croatia',\n",
       " 'Croatia',\n",
       " 'Croatia',\n",
       " 'Croatia',\n",
       " 'Croatia',\n",
       " 'Cuba',\n",
       " 'Cuba',\n",
       " 'Cuba',\n",
       " 'Cuba',\n",
       " 'Cuba',\n",
       " 'Cuba',\n",
       " 'Cuba',\n",
       " 'Cuba',\n",
       " 'Cuba',\n",
       " 'Cuba',\n",
       " 'Cuba',\n",
       " 'Cuba',\n",
       " 'Czech_Republic',\n",
       " 'Czech_Republic',\n",
       " 'Czech_Republic',\n",
       " 'Czech_Republic',\n",
       " 'Czech_Republic',\n",
       " 'Czech_Republic',\n",
       " 'Czech_Republic',\n",
       " 'Czech_Republic',\n",
       " 'Czech_Republic',\n",
       " 'Czech_Republic',\n",
       " 'Czech_Republic',\n",
       " 'Czech_Republic',\n",
       " 'Denmark',\n",
       " 'Denmark',\n",
       " 'Denmark',\n",
       " 'Denmark',\n",
       " 'Denmark',\n",
       " 'Denmark',\n",
       " 'Denmark',\n",
       " 'Denmark',\n",
       " 'Denmark',\n",
       " 'Denmark',\n",
       " 'Denmark',\n",
       " 'Denmark',\n",
       " 'Djibouti',\n",
       " 'Djibouti',\n",
       " 'Djibouti',\n",
       " 'Djibouti',\n",
       " 'Djibouti',\n",
       " 'Djibouti',\n",
       " 'Djibouti',\n",
       " 'Djibouti',\n",
       " 'Djibouti',\n",
       " 'Djibouti',\n",
       " 'Djibouti',\n",
       " 'Djibouti',\n",
       " 'Dominican_Republic',\n",
       " 'Dominican_Republic',\n",
       " 'Dominican_Republic',\n",
       " 'Dominican_Republic',\n",
       " 'Dominican_Republic',\n",
       " 'Dominican_Republic',\n",
       " 'Dominican_Republic',\n",
       " 'Dominican_Republic',\n",
       " 'Dominican_Republic',\n",
       " 'Dominican_Republic',\n",
       " 'Dominican_Republic',\n",
       " 'Dominican_Republic',\n",
       " 'Ecuador',\n",
       " 'Ecuador',\n",
       " 'Ecuador',\n",
       " 'Ecuador',\n",
       " 'Ecuador',\n",
       " 'Ecuador',\n",
       " 'Ecuador',\n",
       " 'Ecuador',\n",
       " 'Ecuador',\n",
       " 'Ecuador',\n",
       " 'Ecuador',\n",
       " 'Ecuador',\n",
       " 'Egypt',\n",
       " 'Egypt',\n",
       " 'Egypt',\n",
       " 'Egypt',\n",
       " 'Egypt',\n",
       " 'Egypt',\n",
       " 'Egypt',\n",
       " 'Egypt',\n",
       " 'Egypt',\n",
       " 'Egypt',\n",
       " 'Egypt',\n",
       " 'Egypt',\n",
       " 'El_Salvador',\n",
       " 'El_Salvador',\n",
       " 'El_Salvador',\n",
       " 'El_Salvador',\n",
       " 'El_Salvador',\n",
       " 'El_Salvador',\n",
       " 'El_Salvador',\n",
       " 'El_Salvador',\n",
       " 'El_Salvador',\n",
       " 'El_Salvador',\n",
       " 'El_Salvador',\n",
       " 'El_Salvador',\n",
       " 'Equatorial_Guinea',\n",
       " 'Equatorial_Guinea',\n",
       " 'Equatorial_Guinea',\n",
       " 'Equatorial_Guinea',\n",
       " 'Equatorial_Guinea',\n",
       " 'Equatorial_Guinea',\n",
       " 'Equatorial_Guinea',\n",
       " 'Equatorial_Guinea',\n",
       " 'Equatorial_Guinea',\n",
       " 'Equatorial_Guinea',\n",
       " 'Equatorial_Guinea',\n",
       " 'Equatorial_Guinea',\n",
       " 'Eritrea',\n",
       " 'Eritrea',\n",
       " 'Eritrea',\n",
       " 'Eritrea',\n",
       " 'Eritrea',\n",
       " 'Eritrea',\n",
       " 'Eritrea',\n",
       " 'Eritrea',\n",
       " 'Eritrea',\n",
       " 'Eritrea',\n",
       " 'Eritrea',\n",
       " 'Eritrea',\n",
       " 'Ethiopia',\n",
       " 'Ethiopia',\n",
       " 'Ethiopia',\n",
       " 'Ethiopia',\n",
       " 'Ethiopia',\n",
       " 'Ethiopia',\n",
       " 'Ethiopia',\n",
       " 'Ethiopia',\n",
       " 'Ethiopia',\n",
       " 'Ethiopia',\n",
       " 'Ethiopia',\n",
       " 'Ethiopia',\n",
       " 'Finland',\n",
       " 'Finland',\n",
       " 'Finland',\n",
       " 'Finland',\n",
       " 'Finland',\n",
       " 'Finland',\n",
       " 'Finland',\n",
       " 'Finland',\n",
       " 'Finland',\n",
       " 'Finland',\n",
       " 'Finland',\n",
       " 'Finland',\n",
       " 'France',\n",
       " 'France',\n",
       " 'France',\n",
       " 'France',\n",
       " 'France',\n",
       " 'France',\n",
       " 'France',\n",
       " 'France',\n",
       " 'France',\n",
       " 'France',\n",
       " 'France',\n",
       " 'France',\n",
       " 'Gabon',\n",
       " 'Gabon',\n",
       " 'Gabon',\n",
       " 'Gabon',\n",
       " 'Gabon',\n",
       " 'Gabon',\n",
       " 'Gabon',\n",
       " 'Gabon',\n",
       " 'Gabon',\n",
       " 'Gabon',\n",
       " 'Gabon',\n",
       " 'Gabon',\n",
       " 'Gambia',\n",
       " 'Gambia',\n",
       " 'Gambia',\n",
       " 'Gambia',\n",
       " 'Gambia',\n",
       " 'Gambia',\n",
       " 'Gambia',\n",
       " 'Gambia',\n",
       " 'Gambia',\n",
       " 'Gambia',\n",
       " 'Gambia',\n",
       " 'Gambia',\n",
       " 'Germany',\n",
       " 'Germany',\n",
       " 'Germany',\n",
       " 'Germany',\n",
       " 'Germany',\n",
       " 'Germany',\n",
       " 'Germany',\n",
       " 'Germany',\n",
       " 'Germany',\n",
       " 'Germany',\n",
       " 'Germany',\n",
       " 'Germany',\n",
       " 'Ghana',\n",
       " 'Ghana',\n",
       " 'Ghana',\n",
       " 'Ghana',\n",
       " 'Ghana',\n",
       " 'Ghana',\n",
       " 'Ghana',\n",
       " 'Ghana',\n",
       " 'Ghana',\n",
       " 'Ghana',\n",
       " 'Ghana',\n",
       " 'Ghana',\n",
       " 'Greece',\n",
       " 'Greece',\n",
       " 'Greece',\n",
       " 'Greece',\n",
       " 'Greece',\n",
       " 'Greece',\n",
       " 'Greece',\n",
       " 'Greece',\n",
       " 'Greece',\n",
       " 'Greece',\n",
       " 'Greece',\n",
       " 'Greece',\n",
       " 'Guatemala',\n",
       " 'Guatemala',\n",
       " 'Guatemala',\n",
       " 'Guatemala',\n",
       " 'Guatemala',\n",
       " 'Guatemala',\n",
       " 'Guatemala',\n",
       " 'Guatemala',\n",
       " 'Guatemala',\n",
       " 'Guatemala',\n",
       " 'Guatemala',\n",
       " 'Guatemala',\n",
       " 'Guinea',\n",
       " 'Guinea',\n",
       " 'Guinea',\n",
       " 'Guinea',\n",
       " 'Guinea',\n",
       " 'Guinea',\n",
       " 'Guinea',\n",
       " 'Guinea',\n",
       " 'Guinea',\n",
       " 'Guinea',\n",
       " 'Guinea',\n",
       " 'Guinea',\n",
       " 'Guinea-Bissau',\n",
       " 'Guinea-Bissau',\n",
       " 'Guinea-Bissau',\n",
       " 'Guinea-Bissau',\n",
       " 'Guinea-Bissau',\n",
       " 'Guinea-Bissau',\n",
       " 'Guinea-Bissau',\n",
       " 'Guinea-Bissau',\n",
       " 'Guinea-Bissau',\n",
       " 'Guinea-Bissau',\n",
       " 'Guinea-Bissau',\n",
       " 'Guinea-Bissau',\n",
       " 'Haiti',\n",
       " 'Haiti',\n",
       " 'Haiti',\n",
       " 'Haiti',\n",
       " 'Haiti',\n",
       " 'Haiti',\n",
       " 'Haiti',\n",
       " 'Haiti',\n",
       " 'Haiti',\n",
       " 'Haiti',\n",
       " 'Haiti',\n",
       " 'Haiti',\n",
       " 'Honduras',\n",
       " 'Honduras',\n",
       " 'Honduras',\n",
       " 'Honduras',\n",
       " 'Honduras',\n",
       " 'Honduras',\n",
       " 'Honduras',\n",
       " 'Honduras',\n",
       " 'Honduras',\n",
       " 'Honduras',\n",
       " 'Honduras',\n",
       " 'Honduras',\n",
       " 'Hong_Kong_China',\n",
       " 'Hong_Kong_China',\n",
       " 'Hong_Kong_China',\n",
       " 'Hong_Kong_China',\n",
       " 'Hong_Kong_China',\n",
       " 'Hong_Kong_China',\n",
       " 'Hong_Kong_China',\n",
       " 'Hong_Kong_China',\n",
       " 'Hong_Kong_China',\n",
       " 'Hong_Kong_China',\n",
       " 'Hong_Kong_China',\n",
       " 'Hong_Kong_China',\n",
       " 'Hungary',\n",
       " 'Hungary',\n",
       " 'Hungary',\n",
       " 'Hungary',\n",
       " 'Hungary',\n",
       " 'Hungary',\n",
       " 'Hungary',\n",
       " 'Hungary',\n",
       " 'Hungary',\n",
       " 'Hungary',\n",
       " 'Hungary',\n",
       " 'Hungary',\n",
       " 'Iceland',\n",
       " 'Iceland',\n",
       " 'Iceland',\n",
       " 'Iceland',\n",
       " 'Iceland',\n",
       " 'Iceland',\n",
       " 'Iceland',\n",
       " 'Iceland',\n",
       " 'Iceland',\n",
       " 'Iceland',\n",
       " 'Iceland',\n",
       " 'Iceland',\n",
       " 'India',\n",
       " 'India',\n",
       " 'India',\n",
       " 'India',\n",
       " 'India',\n",
       " 'India',\n",
       " 'India',\n",
       " 'India',\n",
       " 'India',\n",
       " 'India',\n",
       " 'India',\n",
       " 'India',\n",
       " 'Indonesia',\n",
       " 'Indonesia',\n",
       " 'Indonesia',\n",
       " 'Indonesia',\n",
       " 'Indonesia',\n",
       " 'Indonesia',\n",
       " 'Indonesia',\n",
       " 'Indonesia',\n",
       " 'Indonesia',\n",
       " 'Indonesia',\n",
       " 'Indonesia',\n",
       " 'Indonesia',\n",
       " 'Iran',\n",
       " 'Iran',\n",
       " 'Iran',\n",
       " 'Iran',\n",
       " 'Iran',\n",
       " 'Iran',\n",
       " 'Iran',\n",
       " 'Iran',\n",
       " 'Iran',\n",
       " 'Iran',\n",
       " 'Iran',\n",
       " 'Iran',\n",
       " 'Iraq',\n",
       " 'Iraq',\n",
       " 'Iraq',\n",
       " 'Iraq',\n",
       " 'Iraq',\n",
       " 'Iraq',\n",
       " 'Iraq',\n",
       " 'Iraq',\n",
       " 'Iraq',\n",
       " 'Iraq',\n",
       " 'Iraq',\n",
       " 'Iraq',\n",
       " 'Ireland',\n",
       " 'Ireland',\n",
       " 'Ireland',\n",
       " 'Ireland',\n",
       " 'Ireland',\n",
       " 'Ireland',\n",
       " 'Ireland',\n",
       " 'Ireland',\n",
       " 'Ireland',\n",
       " 'Ireland',\n",
       " 'Ireland',\n",
       " 'Ireland',\n",
       " 'Israel',\n",
       " 'Israel',\n",
       " 'Israel',\n",
       " 'Israel',\n",
       " 'Israel',\n",
       " 'Israel',\n",
       " 'Israel',\n",
       " 'Israel',\n",
       " 'Israel',\n",
       " 'Israel',\n",
       " 'Israel',\n",
       " 'Israel',\n",
       " 'Italy',\n",
       " 'Italy',\n",
       " 'Italy',\n",
       " 'Italy',\n",
       " 'Italy',\n",
       " 'Italy',\n",
       " 'Italy',\n",
       " 'Italy',\n",
       " 'Italy',\n",
       " 'Italy',\n",
       " 'Italy',\n",
       " 'Italy',\n",
       " 'Jamaica',\n",
       " 'Jamaica',\n",
       " 'Jamaica',\n",
       " 'Jamaica',\n",
       " 'Jamaica',\n",
       " 'Jamaica',\n",
       " 'Jamaica',\n",
       " 'Jamaica',\n",
       " 'Jamaica',\n",
       " 'Jamaica',\n",
       " 'Jamaica',\n",
       " 'Jamaica',\n",
       " 'Japan',\n",
       " 'Japan',\n",
       " 'Japan',\n",
       " 'Japan',\n",
       " 'Japan',\n",
       " 'Japan',\n",
       " 'Japan',\n",
       " 'Japan',\n",
       " 'Japan',\n",
       " 'Japan',\n",
       " 'Japan',\n",
       " 'Japan',\n",
       " 'Jordan',\n",
       " 'Jordan',\n",
       " 'Jordan',\n",
       " 'Jordan',\n",
       " 'Jordan',\n",
       " 'Jordan',\n",
       " 'Jordan',\n",
       " 'Jordan',\n",
       " 'Jordan',\n",
       " 'Jordan',\n",
       " 'Jordan',\n",
       " 'Jordan',\n",
       " 'Kenya',\n",
       " 'Kenya',\n",
       " 'Kenya',\n",
       " 'Kenya',\n",
       " 'Kenya',\n",
       " 'Kenya',\n",
       " 'Kenya',\n",
       " 'Kenya',\n",
       " 'Kenya',\n",
       " 'Kenya',\n",
       " 'Kenya',\n",
       " 'Kenya',\n",
       " 'Korea_Dem_Rep',\n",
       " 'Korea_Dem_Rep',\n",
       " 'Korea_Dem_Rep',\n",
       " 'Korea_Dem_Rep',\n",
       " 'Korea_Dem_Rep',\n",
       " 'Korea_Dem_Rep',\n",
       " 'Korea_Dem_Rep',\n",
       " 'Korea_Dem_Rep',\n",
       " 'Korea_Dem_Rep',\n",
       " 'Korea_Dem_Rep',\n",
       " 'Korea_Dem_Rep',\n",
       " 'Korea_Dem_Rep',\n",
       " 'Korea_Rep',\n",
       " 'Korea_Rep',\n",
       " 'Korea_Rep',\n",
       " 'Korea_Rep',\n",
       " 'Korea_Rep',\n",
       " 'Korea_Rep',\n",
       " 'Korea_Rep',\n",
       " 'Korea_Rep',\n",
       " 'Korea_Rep',\n",
       " 'Korea_Rep',\n",
       " 'Korea_Rep',\n",
       " 'Korea_Rep',\n",
       " 'Kuwait',\n",
       " 'Kuwait',\n",
       " 'Kuwait',\n",
       " 'Kuwait',\n",
       " 'Kuwait',\n",
       " 'Kuwait',\n",
       " 'Kuwait',\n",
       " 'Kuwait',\n",
       " 'Kuwait',\n",
       " 'Kuwait',\n",
       " 'Kuwait',\n",
       " 'Kuwait',\n",
       " 'Lebanon',\n",
       " 'Lebanon',\n",
       " 'Lebanon',\n",
       " 'Lebanon',\n",
       " 'Lebanon',\n",
       " 'Lebanon',\n",
       " 'Lebanon',\n",
       " 'Lebanon',\n",
       " 'Lebanon',\n",
       " 'Lebanon',\n",
       " 'Lebanon',\n",
       " 'Lebanon',\n",
       " 'Lesotho',\n",
       " 'Lesotho',\n",
       " 'Lesotho',\n",
       " 'Lesotho',\n",
       " 'Lesotho',\n",
       " 'Lesotho',\n",
       " 'Lesotho',\n",
       " 'Lesotho',\n",
       " 'Lesotho',\n",
       " 'Lesotho',\n",
       " 'Lesotho',\n",
       " 'Lesotho',\n",
       " 'Liberia',\n",
       " 'Liberia',\n",
       " 'Liberia',\n",
       " 'Liberia',\n",
       " 'Liberia',\n",
       " 'Liberia',\n",
       " 'Liberia',\n",
       " 'Liberia',\n",
       " 'Liberia',\n",
       " 'Liberia',\n",
       " 'Liberia',\n",
       " 'Liberia',\n",
       " 'Libya',\n",
       " 'Libya',\n",
       " 'Libya',\n",
       " 'Libya',\n",
       " 'Libya',\n",
       " 'Libya',\n",
       " 'Libya',\n",
       " 'Libya',\n",
       " 'Libya',\n",
       " 'Libya',\n",
       " 'Libya',\n",
       " 'Libya',\n",
       " 'Madagascar',\n",
       " 'Madagascar',\n",
       " 'Madagascar',\n",
       " 'Madagascar',\n",
       " 'Madagascar',\n",
       " 'Madagascar',\n",
       " 'Madagascar',\n",
       " 'Madagascar',\n",
       " 'Madagascar',\n",
       " 'Madagascar',\n",
       " 'Madagascar',\n",
       " 'Madagascar',\n",
       " 'Malawi',\n",
       " 'Malawi',\n",
       " 'Malawi',\n",
       " 'Malawi',\n",
       " 'Malawi',\n",
       " 'Malawi',\n",
       " 'Malawi',\n",
       " 'Malawi',\n",
       " 'Malawi',\n",
       " 'Malawi',\n",
       " 'Malawi',\n",
       " 'Malawi',\n",
       " 'Malaysia',\n",
       " 'Malaysia',\n",
       " 'Malaysia',\n",
       " 'Malaysia',\n",
       " 'Malaysia',\n",
       " 'Malaysia',\n",
       " 'Malaysia',\n",
       " 'Malaysia',\n",
       " 'Malaysia',\n",
       " 'Malaysia',\n",
       " 'Malaysia',\n",
       " 'Malaysia',\n",
       " 'Mali',\n",
       " 'Mali',\n",
       " 'Mali',\n",
       " 'Mali',\n",
       " 'Mali',\n",
       " 'Mali',\n",
       " 'Mali',\n",
       " 'Mali',\n",
       " 'Mali',\n",
       " 'Mali',\n",
       " 'Mali',\n",
       " 'Mali',\n",
       " 'Mauritania',\n",
       " 'Mauritania',\n",
       " 'Mauritania',\n",
       " 'Mauritania',\n",
       " 'Mauritania',\n",
       " 'Mauritania',\n",
       " 'Mauritania',\n",
       " 'Mauritania',\n",
       " 'Mauritania',\n",
       " 'Mauritania',\n",
       " 'Mauritania',\n",
       " 'Mauritania',\n",
       " 'Mauritius',\n",
       " 'Mauritius',\n",
       " 'Mauritius',\n",
       " 'Mauritius',\n",
       " 'Mauritius',\n",
       " 'Mauritius',\n",
       " 'Mauritius',\n",
       " 'Mauritius',\n",
       " 'Mauritius',\n",
       " 'Mauritius',\n",
       " 'Mauritius',\n",
       " 'Mauritius',\n",
       " 'Mexico',\n",
       " 'Mexico',\n",
       " 'Mexico',\n",
       " 'Mexico',\n",
       " 'Mexico',\n",
       " 'Mexico',\n",
       " 'Mexico',\n",
       " 'Mexico',\n",
       " 'Mexico',\n",
       " 'Mexico',\n",
       " 'Mexico',\n",
       " 'Mexico',\n",
       " 'Mongolia',\n",
       " 'Mongolia',\n",
       " 'Mongolia',\n",
       " 'Mongolia',\n",
       " ...]"
      ]
     },
     "execution_count": 318,
     "metadata": {},
     "output_type": "execute_result"
    }
   ],
   "source": [
    "list(myData_dict['country'])"
   ]
  },
  {
   "cell_type": "code",
   "execution_count": 120,
   "metadata": {
    "collapsed": true
   },
   "outputs": [
    {
     "data": {
      "text/plain": [
       "142"
      ]
     },
     "execution_count": 120,
     "metadata": {},
     "output_type": "execute_result"
    }
   ],
   "source": [
    "#how many countries?\n",
    "len(myData_df.country.unique())"
   ]
  },
  {
   "cell_type": "code",
   "execution_count": 121,
   "metadata": {},
   "outputs": [
    {
     "data": {
      "text/plain": [
       "142"
      ]
     },
     "execution_count": 121,
     "metadata": {},
     "output_type": "execute_result"
    }
   ],
   "source": [
    "len(set(list(myData_dict['country'])))"
   ]
  },
  {
   "cell_type": "markdown",
   "metadata": {},
   "source": [
    "There are three main options to achieve the selection and indexing activities in Pandas. They are:\n",
    "\n",
    "* Selecting data by indexing (.iloc)\n",
    "* Selecting data by label(.loc)\n",
    "* Selecting data by a conditional statment/logical statements"
   ]
  },
  {
   "cell_type": "code",
   "execution_count": null,
   "metadata": {},
   "outputs": [],
   "source": [
    "# Subset with index:\n",
    "#all rows, second column\n",
    "print(my_file.iloc[:,2])  \n",
    "\n",
    "#output as series - Series is a one-dimensional labeled array, like R's named list?\n",
    "print(my_file.iloc[0,:])  \n",
    "\n",
    "#same as above; can omit column index if want all columns\n",
    "print(my_file.iloc[0])    \n",
    "\n",
    "print(my_file.iloc[[0]])  #now dataframe is returned\n",
    "\n",
    "#selecting multiple rows and columns:\n",
    "print(my_file.iloc[0:2,1:3])\n",
    "\n",
    "#series again\n",
    "print(my_file.iloc[0:2,3])  \n",
    "\n",
    "#data frame\n",
    "print(my_file.iloc[0:2,[3]])  \n",
    "print(my_file.iloc[[0,2,3],[1,3]])"
   ]
  },
  {
   "cell_type": "code",
   "execution_count": 230,
   "metadata": {
    "collapsed": true
   },
   "outputs": [
    {
     "name": "stdout",
     "output_type": "stream",
     "text": [
      "       country continent  year  lifeExp       pop   gdpPercap\n",
      "0  Afghanistan      Asia  1952   28.801   8425333  779.445314\n",
      "1  Afghanistan      Asia  1957   30.332   9240934  820.853030\n",
      "2  Afghanistan      Asia  1962   31.997  10267083  853.100710\n",
      "3  Afghanistan      Asia  1967   34.020  11537966  836.197138\n",
      "4  Afghanistan      Asia  1972   36.088  13079460  739.981106\n",
      "      year\n",
      "0     1952\n",
      "1     1957\n",
      "2     1962\n",
      "3     1967\n",
      "4     1972\n",
      "5     1977\n",
      "6     1982\n",
      "7     1987\n",
      "8     1992\n",
      "9     1997\n",
      "10    2002\n",
      "11    2007\n",
      "12    1952\n",
      "13    1957\n",
      "14    1962\n",
      "15    1967\n",
      "16    1972\n",
      "17    1977\n",
      "18    1982\n",
      "19    1987\n",
      "20    1992\n",
      "21    1997\n",
      "22    2002\n",
      "23    2007\n",
      "24    1952\n",
      "25    1957\n",
      "26    1962\n",
      "27    1967\n",
      "28    1972\n",
      "29    1977\n",
      "...    ...\n",
      "1674  1982\n",
      "1675  1987\n",
      "1676  1992\n",
      "1677  1997\n",
      "1678  2002\n",
      "1679  2007\n",
      "1680  1952\n",
      "1681  1957\n",
      "1682  1962\n",
      "1683  1967\n",
      "1684  1972\n",
      "1685  1977\n",
      "1686  1982\n",
      "1687  1987\n",
      "1688  1992\n",
      "1689  1997\n",
      "1690  2002\n",
      "1691  2007\n",
      "1692  1952\n",
      "1693  1957\n",
      "1694  1962\n",
      "1695  1967\n",
      "1696  1972\n",
      "1697  1977\n",
      "1698  1982\n",
      "1699  1987\n",
      "1700  1992\n",
      "1701  1997\n",
      "1702  2002\n",
      "1703  2007\n",
      "\n",
      "[1704 rows x 1 columns]\n",
      "      year       pop\n",
      "0     1952   8425333\n",
      "1     1957   9240934\n",
      "2     1962  10267083\n",
      "3     1967  11537966\n",
      "4     1972  13079460\n",
      "5     1977  14880372\n",
      "6     1982  12881816\n",
      "7     1987  13867957\n",
      "8     1992  16317921\n",
      "9     1997  22227415\n",
      "10    2002  25268405\n",
      "11    2007  31889923\n",
      "12    1952   1282697\n",
      "13    1957   1476505\n",
      "14    1962   1728137\n",
      "15    1967   1984060\n",
      "16    1972   2263554\n",
      "17    1977   2509048\n",
      "18    1982   2780097\n",
      "19    1987   3075321\n",
      "20    1992   3326498\n",
      "21    1997   3428038\n",
      "22    2002   3508512\n",
      "23    2007   3600523\n",
      "24    1952   9279525\n",
      "25    1957  10270856\n",
      "26    1962  11000948\n",
      "27    1967  12760499\n",
      "28    1972  14760787\n",
      "29    1977  17152804\n",
      "...    ...       ...\n",
      "1674  1982   9657618\n",
      "1675  1987  11219340\n",
      "1676  1992  13367997\n",
      "1677  1997  15826497\n",
      "1678  2002  18701257\n",
      "1679  2007  22211743\n",
      "1680  1952   2672000\n",
      "1681  1957   3016000\n",
      "1682  1962   3421000\n",
      "1683  1967   3900000\n",
      "1684  1972   4506497\n",
      "1685  1977   5216550\n",
      "1686  1982   6100407\n",
      "1687  1987   7272406\n",
      "1688  1992   8381163\n",
      "1689  1997   9417789\n",
      "1690  2002  10595811\n",
      "1691  2007  11746035\n",
      "1692  1952   3080907\n",
      "1693  1957   3646340\n",
      "1694  1962   4277736\n",
      "1695  1967   4995432\n",
      "1696  1972   5861135\n",
      "1697  1977   6642107\n",
      "1698  1982   7636524\n",
      "1699  1987   9216418\n",
      "1700  1992  10704340\n",
      "1701  1997  11404948\n",
      "1702  2002  11926563\n",
      "1703  2007  12311143\n",
      "\n",
      "[1704 rows x 2 columns]\n",
      "   year\n",
      "0  1952\n",
      "1  1957\n",
      "2  1962\n",
      "0    1952\n",
      "1    1957\n",
      "2    1962\n",
      "Name: year, dtype: int64\n"
     ]
    }
   ],
   "source": [
    "#subset by label:\n",
    "#data.loc[<row selection>, <column selection>]\n",
    "#df.set_index(\"last_name\", inplace=True)  #can set index to unique column, or use row numbers as labels\n",
    "\n",
    "print(my_file.head())\n",
    "print(my_file.loc[:, ['year']])\n",
    "print(my_file.loc[:, ['year','pop']])\n",
    "\n",
    "#note that 0:2 is interpreted as  labels of the index. This use is not an integer position along the index\n",
    "print(my_file.loc[0:2,['year']])  \n",
    "\n",
    "#back to series\n",
    "print(my_file.loc[0:2,'year'])"
   ]
  },
  {
   "cell_type": "code",
   "execution_count": null,
   "metadata": {},
   "outputs": [],
   "source": [
    "#Logical selection\n",
    "#data.loc[<row selection>, <column selection>] where row selection is based on logical Pandas series\n",
    "\n",
    "#With logical selection, you pass an array or Series of True/False values to the .loc indexer to select the rows where your Series has True values.\n",
    "print(my_file.head())\n",
    "\n",
    "#all columns where country is Afghanistan\n",
    "print(my_file.loc[my_file['country']==\"Afghanistan\"]) #all columns where country is Afghanistan\n",
    "\n",
    "#logical Pandas series with TRUE values for rows where Afghanistan is present\n",
    "ls=my_file['country']==\"Afghanistan\"  \n",
    "print(ls.head(13))\n",
    "\n",
    "#specify columns\n",
    "print(my_file.loc[my_file['country']==\"Afghanistan\",['year', 'pop']])"
   ]
  }
 ],
 "metadata": {
  "kernelspec": {
   "display_name": "Python 3",
   "language": "python",
   "name": "python3"
  },
  "language_info": {
   "codemirror_mode": {
    "name": "ipython",
    "version": 3
   },
   "file_extension": ".py",
   "mimetype": "text/x-python",
   "name": "python",
   "nbconvert_exporter": "python",
   "pygments_lexer": "ipython3",
   "version": "3.7.1"
  }
 },
 "nbformat": 4,
 "nbformat_minor": 2
}
